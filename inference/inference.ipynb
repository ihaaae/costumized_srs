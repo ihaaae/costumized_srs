{
 "cells": [
  {
   "cell_type": "code",
   "execution_count": 2,
   "metadata": {},
   "outputs": [],
   "source": [
    "import os\n",
    "import shutil\n",
    "from glob import glob\n",
    "\n",
    "# Define source directory\n",
    "source_dir = '/root/speechbrain/templates/speaker_id/results/speaker_id/1986/save'\n",
    "\n",
    "# Copy label encoder to the current directory\n",
    "shutil.copy(os.path.join(source_dir, 'label_encoder.txt'), os.getcwd())\n",
    "\n",
    "# Copy the latest checkpoint to the current directory\n",
    "latest_checkpoint = max(glob(os.path.join(source_dir, 'CKPT*')), key=os.path.getctime)\n",
    "for file in os.listdir(latest_checkpoint):\n",
    "    file_source = os.path.join(latest_checkpoint, file)\n",
    "    shutil.copy(file_source, os.getcwd())\n"
   ]
  },
  {
   "cell_type": "code",
   "execution_count": 6,
   "metadata": {},
   "outputs": [],
   "source": [
    "from speechbrain.pretrained import EncoderClassifier\n",
    "import sys\n",
    "\n",
    "source=\"/root/inference/\"\n",
    "savedir=\"/root/inference/\"\n",
    "\n",
    "sys.path.append(source)\n",
    "\n",
    "import hparams_inference as hi\n",
    "\n",
    "pretrainer = hi.pretrainer\n",
    "pretrainer.set_collect_in(savedir)\n",
    "\n",
    "from speechbrain.utils.distributed import run_on_main\n",
    "run_on_main(\n",
    "    pretrainer.collect_files, kwargs={\"default_source\": source},\n",
    ")\n",
    "pretrainer.load_collected(device=\"cpu\")\n",
    "\n",
    "# Now return the system\n",
    "classifier = EncoderClassifier(hi.modules, hi.hparams, {})"
   ]
  },
  {
   "cell_type": "code",
   "execution_count": 7,
   "metadata": {},
   "outputs": [
    {
     "name": "stderr",
     "output_type": "stream",
     "text": [
      "/root/miniconda3/lib/python3.8/site-packages/speechbrain/dataio/encoder.py:722: UserWarning: CategoricalEncoder.expect_len was never called: assuming category count of 28 to be correct! Sanity check your encoder using `.expect_len`. Ensure that downstream code also uses the correct size. If you are sure this does not apply to you, use `.ignore_len`.\n",
      "  warnings.warn(\n"
     ]
    },
    {
     "name": "stdout",
     "output_type": "stream",
     "text": [
      "Target: 5789, Predicted: 5789\n",
      "Target: 460, Predicted: 460\n"
     ]
    }
   ],
   "source": [
    "import torchaudio\n",
    "\n",
    "# Perform classification\n",
    "audio_file = '/root/autodl-tmp/LibriSpeech/train-clean-5/5789/70653/5789-70653-0036.flac'\n",
    "signal, fs = torchaudio.load(audio_file) # test_speaker: 5789\n",
    "output_probs, score, index, text_lab = classifier.classify_batch(signal)\n",
    "print('Target: 5789, Predicted: ' + text_lab[0])\n",
    "\n",
    "# Another speaker\n",
    "audio_file = '/root/autodl-tmp/LibriSpeech/train-clean-5/460/172359/460-172359-0012.flac'\n",
    "signal, fs =torchaudio.load(audio_file) # test_speaker: 460\n",
    "output_probs, score, index, text_lab = classifier.classify_batch(signal)\n",
    "print('Target: 460, Predicted: ' + text_lab[0])\n",
    "\n",
    "# And if you want to extract embeddings...\n",
    "embeddings = classifier.encode_batch(signal)"
   ]
  }
 ],
 "metadata": {
  "kernelspec": {
   "display_name": "base",
   "language": "python",
   "name": "python3"
  },
  "language_info": {
   "codemirror_mode": {
    "name": "ipython",
    "version": 3
   },
   "file_extension": ".py",
   "mimetype": "text/x-python",
   "name": "python",
   "nbconvert_exporter": "python",
   "pygments_lexer": "ipython3",
   "version": "3.8.10"
  }
 },
 "nbformat": 4,
 "nbformat_minor": 2
}
